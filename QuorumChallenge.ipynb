{
 "cells": [
  {
   "cell_type": "code",
   "execution_count": 46,
   "id": "6a812927",
   "metadata": {},
   "outputs": [],
   "source": [
    "import pandas as pd"
   ]
  },
  {
   "cell_type": "code",
   "execution_count": 47,
   "id": "4439c8e4",
   "metadata": {},
   "outputs": [],
   "source": [
    "class CsvOperations:\n",
    "    def transform_csv_to_dataframe(self, filename):\n",
    "        return pd.read_csv(filename)\n",
    "    \n",
    "    def rename_column_in_place(self, df, original, new):\n",
    "        df.rename(columns={original: new}, inplace=True)\n",
    "        \n",
    "    def transform_datataframe_to_csv(self, df, filename):\n",
    "        df.to_csv(filename, index=False)\n",
    "        \n",
    "    def set_index_in_dataframe(self, df, column):\n",
    "        df.set_index(column)\n",
    "        \n",
    "    "
   ]
  },
  {
   "cell_type": "markdown",
   "id": "b0aab7d8",
   "metadata": {},
   "source": [
    "# Read the CSV's\n"
   ]
  },
  {
   "cell_type": "code",
   "execution_count": 48,
   "id": "e2c3337f",
   "metadata": {},
   "outputs": [],
   "source": [
    "operations = CsvOperations()\n",
    "bills = operations.transform_csv_to_dataframe('bills.csv')\n",
    "legislators = operations.transform_csv_to_dataframe('legislators.csv')\n",
    "vote_results = operations.transform_csv_to_dataframe('vote_results.csv')\n",
    "vote = operations.transform_csv_to_dataframe('votes.csv')\n"
   ]
  },
  {
   "cell_type": "markdown",
   "id": "e6dc76f0",
   "metadata": {},
   "source": [
    "# Transforming some columns names "
   ]
  },
  {
   "cell_type": "code",
   "execution_count": 49,
   "id": "ec6191b6",
   "metadata": {},
   "outputs": [],
   "source": [
    "operations.rename_column_in_place(bills, 'id', 'bill_id')\n",
    "operations.rename_column_in_place(legislators, 'id', 'legislator_id')\n",
    "operations.rename_column_in_place(vote_results, 'id', 'vote_result_id')\n",
    "operations.rename_column_in_place(vote, 'id', 'vote_id')"
   ]
  },
  {
   "cell_type": "markdown",
   "id": "ca9fd424",
   "metadata": {},
   "source": [
    "# Set Indexes to better the speed of merge operations"
   ]
  },
  {
   "cell_type": "code",
   "execution_count": 50,
   "id": "edfbb045",
   "metadata": {},
   "outputs": [],
   "source": [
    "operations.set_index_in_dataframe(bills, 'bill_id')\n",
    "operations.set_index_in_dataframe(legislators, 'legislator_id')\n",
    "operations.set_index_in_dataframe(vote_results, 'vote_result_id')\n",
    "operations.set_index_in_dataframe(vote_results, 'vote_id')\n"
   ]
  },
  {
   "cell_type": "markdown",
   "id": "432bce1a",
   "metadata": {},
   "source": [
    "# Merge all databases "
   ]
  },
  {
   "cell_type": "code",
   "execution_count": 51,
   "id": "7483358b",
   "metadata": {},
   "outputs": [],
   "source": [
    "final_merge = (legislators.merge(vote_results, on='legislator_id')\n",
    "                 .merge(vote, on='vote_id')\n",
    "                 .merge(bills, on='bill_id'))"
   ]
  },
  {
   "cell_type": "markdown",
   "id": "3f6c0601",
   "metadata": {},
   "source": [
    "# Question 1"
   ]
  },
  {
   "cell_type": "code",
   "execution_count": 52,
   "id": "ee651f2c",
   "metadata": {},
   "outputs": [],
   "source": [
    "\n",
    "count = 0\n",
    "supported_function = lambda row: count + 1 if row['vote_type'] == 1 else count\n",
    "opposed_function = lambda row: count + 1 if row['vote_type'] == 2 else count\n",
    "\n",
    "final_merge['num_supported_bills'] = final_merge.apply(supported_function, axis=1)\n",
    "final_merge['num_opposed_bills'] = final_merge.apply(opposed_function, axis=1)\n",
    "legislators_support_oppose = final_merge.groupby(['legislator_id', 'name']).agg({'num_supported_bills': 'sum', 'num_opposed_bills': 'sum'}).reset_index()\n",
    "\n",
    "operations.transform_datataframe_to_csv(legislators_support_oppose, 'legislators-support-oppose-count.csv')"
   ]
  },
  {
   "attachments": {},
   "cell_type": "markdown",
   "id": "9be112d3",
   "metadata": {},
   "source": [
    "# Question 2"
   ]
  },
  {
   "cell_type": "code",
   "execution_count": 54,
   "id": "4ceca423",
   "metadata": {},
   "outputs": [],
   "source": [
    "\n",
    "bills_count = final_merge.groupby(['bill_id', 'sponsor_id']).agg({'num_supported_bills': 'sum', 'num_opposed_bills': 'sum'}).reset_index()\n",
    "bills_count['primary_sponsor'] = bills_count['sponsor_id'].map(lambda sponsor_id: legislators.loc[legislators['legislator_id'] == sponsor_id, 'name'].iloc[0] if len(legislators.loc[legislators['legislator_id'] == sponsor_id]) > 0 else 'Unknown')\n",
    "\n",
    "operations.transform_datataframe_to_csv(bills_count, 'bills_result.csv')"
   ]
  },
  {
   "cell_type": "code",
   "execution_count": null,
   "id": "1f02028f",
   "metadata": {},
   "outputs": [],
   "source": []
  },
  {
   "cell_type": "code",
   "execution_count": null,
   "id": "f2706075",
   "metadata": {},
   "outputs": [],
   "source": []
  }
 ],
 "metadata": {
  "kernelspec": {
   "display_name": "Python 3 (ipykernel)",
   "language": "python",
   "name": "python3"
  },
  "language_info": {
   "codemirror_mode": {
    "name": "ipython",
    "version": 3
   },
   "file_extension": ".py",
   "mimetype": "text/x-python",
   "name": "python",
   "nbconvert_exporter": "python",
   "pygments_lexer": "ipython3",
   "version": "3.10.6"
  }
 },
 "nbformat": 4,
 "nbformat_minor": 5
}
