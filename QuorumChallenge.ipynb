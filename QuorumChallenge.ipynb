{
 "cells": [
  {
   "cell_type": "code",
   "execution_count": 306,
   "id": "6a812927",
   "metadata": {},
   "outputs": [],
   "source": [
    "import pandas as pd"
   ]
  },
  {
   "cell_type": "code",
   "execution_count": 318,
   "id": "4439c8e4",
   "metadata": {},
   "outputs": [],
   "source": [
    "class CsvOperations:\n",
    "    def transform_csv_to_dataframe(self, filename):\n",
    "        return pd.read_csv(filename)\n",
    "    \n",
    "    def rename_column_in_place(self, df, original, new):\n",
    "        df.rename(columns={original: new}, inplace=True)\n",
    "        \n",
    "    def transform_datataframe_to_csv(self, df, filename):\n",
    "        df.to_csv(filename, index=False)\n",
    "        \n",
    "    def set_index_in_dataframe(self, df, column):\n",
    "        df.set_index(column)\n",
    "        \n",
    "    "
   ]
  },
  {
   "cell_type": "markdown",
   "id": "b0aab7d8",
   "metadata": {},
   "source": [
    "# Read the CSV's\n"
   ]
  },
  {
   "cell_type": "code",
   "execution_count": 319,
   "id": "e2c3337f",
   "metadata": {},
   "outputs": [],
   "source": [
    "operations = CsvOperations()\n",
    "bills = operations.transform_csv_to_dataframe('bills.csv')\n",
    "legislators = operations.transform_csv_to_dataframe('legislators.csv')\n",
    "vote_results = operations.transform_csv_to_dataframe('vote_results.csv')\n",
    "vote = operations.transform_csv_to_dataframe('votes.csv')\n"
   ]
  },
  {
   "cell_type": "markdown",
   "id": "e6dc76f0",
   "metadata": {},
   "source": [
    "# Transforming some columns names "
   ]
  },
  {
   "cell_type": "code",
   "execution_count": 320,
   "id": "ec6191b6",
   "metadata": {},
   "outputs": [],
   "source": [
    "operations.rename_column_in_place(bills, 'id', 'bill_id')\n",
    "operations.rename_column_in_place(legislators, 'id', 'legislator_id')\n",
    "operations.rename_column_in_place(vote_results, 'id', 'vote_result_id')\n",
    "operations.rename_column_in_place(vote, 'id', 'vote_id')"
   ]
  },
  {
   "cell_type": "markdown",
   "id": "ca9fd424",
   "metadata": {},
   "source": [
    "# Set Indexes to better the speed of merge operations"
   ]
  },
  {
   "cell_type": "code",
   "execution_count": 321,
   "id": "edfbb045",
   "metadata": {},
   "outputs": [],
   "source": [
    "operations.set_index_in_dataframe(bills, 'bill_id')\n",
    "operations.set_index_in_dataframe(legislators, 'legislator_id')\n",
    "operations.set_index_in_dataframe(vote_results, 'vote_result_id')\n",
    "operations.set_index_in_dataframe(vote_results, 'vote_id')\n"
   ]
  },
  {
   "cell_type": "markdown",
   "id": "432bce1a",
   "metadata": {},
   "source": [
    "# Merge all databases "
   ]
  },
  {
   "cell_type": "code",
   "execution_count": 322,
   "id": "7483358b",
   "metadata": {},
   "outputs": [],
   "source": [
    "final_merge = (legislators.merge(vote_results, on='legislator_id')\n",
    "                 .merge(vote, on='vote_id')\n",
    "                 .merge(bills, on='bill_id'))"
   ]
  },
  {
   "cell_type": "markdown",
   "id": "3f6c0601",
   "metadata": {},
   "source": [
    "# Question 1"
   ]
  },
  {
   "cell_type": "code",
   "execution_count": 328,
   "id": "ee651f2c",
   "metadata": {},
   "outputs": [],
   "source": [
    "\n",
    "count = 0\n",
    "supported_function = lambda row: count + 1 if row['vote_type'] == 1 else count\n",
    "opposed_function = lambda row: count + 1 if row['vote_type'] == 2 else count\n",
    "\n",
    "final_merge['num_supported_bills'] = final_merge.apply(supported_function, axis=1)\n",
    "final_merge['num_opposed_bills'] = final_merge.apply(opposed_function, axis=1)\n",
    "legislators_support_oppose = final_merge.groupby(['legislator_id', 'name']).agg({'num_supported_bills': 'sum', 'num_opposed_bills': 'sum'}).reset_index()\n",
    "operations.transform_datataframe_to_csv(legislators_support_oppose, 'legislators-support-oppose-count.csv')"
   ]
  },
  {
   "cell_type": "markdown",
   "id": "9be112d3",
   "metadata": {},
   "source": [
    "# Questão 2"
   ]
  },
  {
   "cell_type": "code",
   "execution_count": 329,
   "id": "4ceca423",
   "metadata": {},
   "outputs": [
    {
     "data": {
      "text/html": [
       "<div>\n",
       "<style scoped>\n",
       "    .dataframe tbody tr th:only-of-type {\n",
       "        vertical-align: middle;\n",
       "    }\n",
       "\n",
       "    .dataframe tbody tr th {\n",
       "        vertical-align: top;\n",
       "    }\n",
       "\n",
       "    .dataframe thead th {\n",
       "        text-align: right;\n",
       "    }\n",
       "</style>\n",
       "<table border=\"1\" class=\"dataframe\">\n",
       "  <thead>\n",
       "    <tr style=\"text-align: right;\">\n",
       "      <th></th>\n",
       "      <th>bill_id</th>\n",
       "      <th>sponsor_id</th>\n",
       "      <th>num_supported_bills</th>\n",
       "      <th>num_opposed_bills</th>\n",
       "      <th>name</th>\n",
       "    </tr>\n",
       "  </thead>\n",
       "  <tbody>\n",
       "    <tr>\n",
       "      <th>0</th>\n",
       "      <td>2900994</td>\n",
       "      <td>400100</td>\n",
       "      <td>13</td>\n",
       "      <td>6</td>\n",
       "      <td>Unknown</td>\n",
       "    </tr>\n",
       "    <tr>\n",
       "      <th>1</th>\n",
       "      <td>2952375</td>\n",
       "      <td>412211</td>\n",
       "      <td>6</td>\n",
       "      <td>13</td>\n",
       "      <td>Unknown</td>\n",
       "    </tr>\n",
       "  </tbody>\n",
       "</table>\n",
       "</div>"
      ],
      "text/plain": [
       "   bill_id  sponsor_id  num_supported_bills  num_opposed_bills     name\n",
       "0  2900994      400100                   13                  6  Unknown\n",
       "1  2952375      412211                    6                 13  Unknown"
      ]
     },
     "execution_count": 329,
     "metadata": {},
     "output_type": "execute_result"
    }
   ],
   "source": [
    "\n",
    "bills_count = final_merge.groupby(['bill_id', 'sponsor_id']).agg({'num_supported_bills': 'sum', 'num_opposed_bills': 'sum'}).reset_index()\n",
    "unique_values = final_merge['sponsor_id'].unique()\n",
    "mask = final_merge['legislator_id'].isin(unique_values)\n",
    "values = final_merge.loc[mask,'name']\n",
    "\n",
    "for id_value in unique_values:\n",
    "    bills_count.loc[bills_count['sponsor_id'] == id_value, 'name'] = values.values[0] if not values.empty else 'Unknown'\n",
    "bills_count\n",
    "operations.transform_datataframe_to_csv(bills_count, 'bills_result.csv')"
   ]
  },
  {
   "cell_type": "code",
   "execution_count": 330,
   "id": "1f02028f",
   "metadata": {},
   "outputs": [],
   "source": []
  },
  {
   "cell_type": "code",
   "execution_count": null,
   "id": "f2706075",
   "metadata": {},
   "outputs": [],
   "source": []
  }
 ],
 "metadata": {
  "kernelspec": {
   "display_name": "Python 3 (ipykernel)",
   "language": "python",
   "name": "python3"
  },
  "language_info": {
   "codemirror_mode": {
    "name": "ipython",
    "version": 3
   },
   "file_extension": ".py",
   "mimetype": "text/x-python",
   "name": "python",
   "nbconvert_exporter": "python",
   "pygments_lexer": "ipython3",
   "version": "3.9.13"
  }
 },
 "nbformat": 4,
 "nbformat_minor": 5
}
